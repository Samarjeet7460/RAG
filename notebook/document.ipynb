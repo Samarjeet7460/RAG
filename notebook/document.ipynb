{
 "cells": [
  {
   "cell_type": "markdown",
   "id": "3c43126a",
   "metadata": {},
   "source": [
    "## Data Ingestion"
   ]
  },
  {
   "cell_type": "code",
   "execution_count": 1,
   "id": "3106a146",
   "metadata": {},
   "outputs": [],
   "source": [
    "from langchain.schema import Document"
   ]
  },
  {
   "cell_type": "code",
   "execution_count": 2,
   "id": "5f0fc856",
   "metadata": {},
   "outputs": [],
   "source": [
    "doc = Document(\n",
    "    page_content=\"this is the first line of my document\",\n",
    "    metadata={\n",
    "        \"source\":\"example.txt\",\n",
    "        \"author\": \"samar\",\n",
    "        \"date\": \"12-9-2024\"\n",
    "    }\n",
    ")"
   ]
  },
  {
   "cell_type": "code",
   "execution_count": 3,
   "id": "74ab5d4a",
   "metadata": {},
   "outputs": [
    {
     "data": {
      "text/plain": [
       "{'source': 'example.txt', 'author': 'samar', 'date': '12-9-2024'}"
      ]
     },
     "execution_count": 3,
     "metadata": {},
     "output_type": "execute_result"
    }
   ],
   "source": [
    "doc.metadata"
   ]
  },
  {
   "cell_type": "markdown",
   "id": "10ae9a4e",
   "metadata": {},
   "source": [
    "## Creating files and folders\n"
   ]
  },
  {
   "cell_type": "code",
   "execution_count": 4,
   "id": "44d09525",
   "metadata": {},
   "outputs": [],
   "source": [
    "## creating directory using os\n",
    "import os\n",
    "os.makedirs(\"../data/text_files\",exist_ok=True)"
   ]
  },
  {
   "cell_type": "code",
   "execution_count": 5,
   "id": "f58eacfc",
   "metadata": {},
   "outputs": [],
   "source": [
    "sample_data = {\n",
    "    \"../data/text_files/python_intro.txt\":\"\"\"\n",
    "            Introduction to Python\n",
    "Python is a high-level, general-purpose, and versatile programming language that has become one of the most popular tools in the world of software development, data science, artificial intelligence, and automation. Designed with simplicity and readability in mind, Python allows developers to focus on solving problems rather than worrying about complex syntax rules.\n",
    "\n",
    "Python was created by Guido van Rossum in the late 1980s and officially released in 1991. The language was influenced by ABC programming language and aimed to provide a simple yet powerful tool for developers. Over the years, Python has evolved into a mature ecosystem supported by a vast community, extensive libraries, and frameworks that make it suitable for almost any domain of computing.\n",
    "        \"\"\",\n",
    "    \"../data/text_files/rag_intro.txt\":\"\"\" \n",
    "Introduction to RAG (Retrieval-Augmented Generation)\n",
    "\n",
    "Retrieval-Augmented Generation (RAG) is an advanced framework in the field of Natural Language Processing (NLP) and Generative AI that combines the power of information retrieval with text generation. Unlike traditional Large Language Models (LLMs) that rely solely on their pre-trained knowledge, RAG enhances responses by retrieving relevant information from an external knowledge base and then generating an answer based on both the retrieved data and the model’s reasoning capabilities.\n",
    "\n",
    "This approach was introduced to overcome one of the main limitations of LLMs: the tendency to produce hallucinations (incorrect or fabricated information) due to reliance only on training data. By integrating retrieval with generation, RAG provides more accurate, up-to-date, and contextually relevant answers.\n",
    "\"\"\"\n",
    "}\n",
    "\n",
    "for filepath, content in sample_data.items():\n",
    "    with open(filepath, 'w', encoding='utf-8') as f:\n",
    "        f.write(content)"
   ]
  },
  {
   "cell_type": "markdown",
   "id": "af59a107",
   "metadata": {},
   "source": [
    "## Loading document"
   ]
  },
  {
   "cell_type": "code",
   "execution_count": 6,
   "id": "da3f4b97",
   "metadata": {},
   "outputs": [],
   "source": [
    "from langchain.document_loaders import TextLoader"
   ]
  },
  {
   "cell_type": "code",
   "execution_count": 7,
   "id": "8c19ef36",
   "metadata": {},
   "outputs": [
    {
     "name": "stdout",
     "output_type": "stream",
     "text": [
      "[Document(metadata={'source': '../data/text_files/python_intro.txt'}, page_content='\\n            Introduction to Python\\nPython is a high-level, general-purpose, and versatile programming language that has become one of the most popular tools in the world of software development, data science, artificial intelligence, and automation. Designed with simplicity and readability in mind, Python allows developers to focus on solving problems rather than worrying about complex syntax rules.\\n\\nPython was created by Guido van Rossum in the late 1980s and officially released in 1991. The language was influenced by ABC programming language and aimed to provide a simple yet powerful tool for developers. Over the years, Python has evolved into a mature ecosystem supported by a vast community, extensive libraries, and frameworks that make it suitable for almost any domain of computing.\\n        ')]\n"
     ]
    }
   ],
   "source": [
    "loader = TextLoader('../data/text_files/python_intro.txt',encoding='utf-8')\n",
    "document = loader.load()\n",
    "print(document)"
   ]
  }
 ],
 "metadata": {
  "kernelspec": {
   "display_name": "venv",
   "language": "python",
   "name": "python3"
  },
  "language_info": {
   "codemirror_mode": {
    "name": "ipython",
    "version": 3
   },
   "file_extension": ".py",
   "mimetype": "text/x-python",
   "name": "python",
   "nbconvert_exporter": "python",
   "pygments_lexer": "ipython3",
   "version": "3.11.0"
  }
 },
 "nbformat": 4,
 "nbformat_minor": 5
}
